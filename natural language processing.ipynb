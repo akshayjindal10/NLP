{
 "cells": [
  {
   "cell_type": "markdown",
   "metadata": {},
   "source": [
    "# Natural Language Processing "
   ]
  },
  {
   "cell_type": "code",
   "execution_count": 20,
   "metadata": {},
   "outputs": [],
   "source": [
    "import nltk\n",
    "#nltk.download(\"all\")"
   ]
  },
  {
   "cell_type": "code",
   "execution_count": 21,
   "metadata": {},
   "outputs": [],
   "source": [
    "speech = ''' In this grave hour, perhaps the most fateful in our history, I send to every household of my peoples, both at home and overseas, this message, spoken with the same depth of feeling for each one of you as if I were able to cross your threshold and speak to you myself.\n",
    "\n",
    "For the second time in the lives of most of us, we are at war.\n",
    "\n",
    "Over and over again, we have tried to find a peaceful way out of the differences between ourselves and those who are now our enemies; but it has been in vain.\n",
    "\n",
    "We have been forced into a conflict, for we are called, with our allies, to meet the challenge of a principle which, if it were to prevail, would be fatal to any civilized order in the world.\n",
    "\n",
    "It is a principle which permits a state, in the selfish pursuit of power, to disregard its treaties and its solemn pledges, which sanctions the use of force or threat of force against the sovereignty and independence of other states.\n",
    "\n",
    "Such a principle, stripped of all disguise, is surely the mere primitive doctrine that might is right, and if this principle were established through the world, the freedom of our own country and of the whole British Commonwealth of nations would be in danger.\n",
    "\n",
    "But far more than this, the peoples of the world would be kept in bondage of fear, and all hopes of settled peace and of the security, of justice and liberty, among nations, would be ended.\n",
    "\n",
    "This is the ultimate issue which confronts us.  For the sake of all that we ourselves hold dear, and of the world order and peace, it is unthinkable that we should refuse to meet the challenge.\n",
    "\n",
    "It is to this high purpose that I now call my people at home, and my peoples across the seas, who will make our cause their own.\n",
    "\n",
    "I ask them to stand calm and firm and united in this time of trial.\n",
    "\n",
    "The task will be hard.  There may be dark days ahead, and war can no longer be confined to the battlefield, but we can only do the right as we see the right, and reverently commit our cause to God.  If one and all we keep resolutely faithful to it, ready for whatever service or sacrifice it may demand, then with God's help, we shall prevail. '''"
   ]
  },
  {
   "cell_type": "code",
   "execution_count": 22,
   "metadata": {},
   "outputs": [
    {
     "name": "stdout",
     "output_type": "stream",
     "text": [
      " In this grave hour, perhaps the most fateful in our history, I send to every household of my peoples, both at home and overseas, this message, spoken with the same depth of feeling for each one of you as if I were able to cross your threshold and speak to you myself.\n",
      "\n",
      "For the second time in the lives of most of us, we are at war.\n",
      "\n",
      "Over and over again, we have tried to find a peaceful way out of the differences between ourselves and those who are now our enemies; but it has been in vain.\n",
      "\n",
      "We have been forced into a conflict, for we are called, with our allies, to meet the challenge of a principle which, if it were to prevail, would be fatal to any civilized order in the world.\n",
      "\n",
      "It is a principle which permits a state, in the selfish pursuit of power, to disregard its treaties and its solemn pledges, which sanctions the use of force or threat of force against the sovereignty and independence of other states.\n",
      "\n",
      "Such a principle, stripped of all disguise, is surely the mere primitive doctrine that might is right, and if this principle were established through the world, the freedom of our own country and of the whole British Commonwealth of nations would be in danger.\n",
      "\n",
      "But far more than this, the peoples of the world would be kept in bondage of fear, and all hopes of settled peace and of the security, of justice and liberty, among nations, would be ended.\n",
      "\n",
      "This is the ultimate issue which confronts us.  For the sake of all that we ourselves hold dear, and of the world order and peace, it is unthinkable that we should refuse to meet the challenge.\n",
      "\n",
      "It is to this high purpose that I now call my people at home, and my peoples across the seas, who will make our cause their own.\n",
      "\n",
      "I ask them to stand calm and firm and united in this time of trial.\n",
      "\n",
      "The task will be hard.  There may be dark days ahead, and war can no longer be confined to the battlefield, but we can only do the right as we see the right, and reverently commit our cause to God.  If one and all we keep resolutely faithful to it, ready for whatever service or sacrifice it may demand, then with God's help, we shall prevail. \n"
     ]
    }
   ],
   "source": [
    "print (speech)"
   ]
  },
  {
   "cell_type": "code",
   "execution_count": 23,
   "metadata": {},
   "outputs": [],
   "source": [
    "sentences = nltk.sent_tokenize(speech) #list of sentences\n",
    "sentences_lem = nltk.sent_tokenize(speech)\n",
    "sentences_lem2 = nltk.sent_tokenize(speech)\n"
   ]
  },
  {
   "cell_type": "code",
   "execution_count": 24,
   "metadata": {},
   "outputs": [
    {
     "name": "stdout",
     "output_type": "stream",
     "text": [
      "[' In this grave hour, perhaps the most fateful in our history, I send to every household of my peoples, both at home and overseas, this message, spoken with the same depth of feeling for each one of you as if I were able to cross your threshold and speak to you myself.', 'For the second time in the lives of most of us, we are at war.', 'Over and over again, we have tried to find a peaceful way out of the differences between ourselves and those who are now our enemies; but it has been in vain.', 'We have been forced into a conflict, for we are called, with our allies, to meet the challenge of a principle which, if it were to prevail, would be fatal to any civilized order in the world.', 'It is a principle which permits a state, in the selfish pursuit of power, to disregard its treaties and its solemn pledges, which sanctions the use of force or threat of force against the sovereignty and independence of other states.', 'Such a principle, stripped of all disguise, is surely the mere primitive doctrine that might is right, and if this principle were established through the world, the freedom of our own country and of the whole British Commonwealth of nations would be in danger.', 'But far more than this, the peoples of the world would be kept in bondage of fear, and all hopes of settled peace and of the security, of justice and liberty, among nations, would be ended.', 'This is the ultimate issue which confronts us.', 'For the sake of all that we ourselves hold dear, and of the world order and peace, it is unthinkable that we should refuse to meet the challenge.', 'It is to this high purpose that I now call my people at home, and my peoples across the seas, who will make our cause their own.', 'I ask them to stand calm and firm and united in this time of trial.', 'The task will be hard.', 'There may be dark days ahead, and war can no longer be confined to the battlefield, but we can only do the right as we see the right, and reverently commit our cause to God.', \"If one and all we keep resolutely faithful to it, ready for whatever service or sacrifice it may demand, then with God's help, we shall prevail.\"]\n"
     ]
    }
   ],
   "source": [
    "print (sentences)"
   ]
  },
  {
   "cell_type": "code",
   "execution_count": 25,
   "metadata": {},
   "outputs": [],
   "source": [
    "words  = nltk.word_tokenize(speech) #list of words"
   ]
  },
  {
   "cell_type": "code",
   "execution_count": 26,
   "metadata": {},
   "outputs": [
    {
     "data": {
      "text/plain": [
       "['In', 'this', 'grave', 'hour', ',', 'perhaps', 'the', 'most', 'fateful', 'in']"
      ]
     },
     "execution_count": 26,
     "metadata": {},
     "output_type": "execute_result"
    }
   ],
   "source": [
    "words [0:10] #Every word including the special symbols is considered as a different word."
   ]
  },
  {
   "cell_type": "markdown",
   "metadata": {},
   "source": [
    "### Stemming and Lemmatization\n",
    "Stemming: Reducing the words to its root (stem) .It usually takes less time compared to lemmatization.Eg . historical and history becomes histori. Uses cases: Email spam detection,sentiment analysis etc.\n",
    "\n",
    "Lemmatization : It factors in the meaning of the word. For eg. Goes,went ,gone becomes go.It usually takes more time than stemming.\n"
   ]
  },
  {
   "cell_type": "code",
   "execution_count": 27,
   "metadata": {},
   "outputs": [
    {
     "data": {
      "text/plain": [
       "[' In this grave hour, perhaps the most fateful in our history, I send to every household of my peoples, both at home and overseas, this message, spoken with the same depth of feeling for each one of you as if I were able to cross your threshold and speak to you myself.',\n",
       " 'For the second time in the lives of most of us, we are at war.',\n",
       " 'Over and over again, we have tried to find a peaceful way out of the differences between ourselves and those who are now our enemies; but it has been in vain.',\n",
       " 'We have been forced into a conflict, for we are called, with our allies, to meet the challenge of a principle which, if it were to prevail, would be fatal to any civilized order in the world.',\n",
       " 'It is a principle which permits a state, in the selfish pursuit of power, to disregard its treaties and its solemn pledges, which sanctions the use of force or threat of force against the sovereignty and independence of other states.',\n",
       " 'Such a principle, stripped of all disguise, is surely the mere primitive doctrine that might is right, and if this principle were established through the world, the freedom of our own country and of the whole British Commonwealth of nations would be in danger.',\n",
       " 'But far more than this, the peoples of the world would be kept in bondage of fear, and all hopes of settled peace and of the security, of justice and liberty, among nations, would be ended.',\n",
       " 'This is the ultimate issue which confronts us.',\n",
       " 'For the sake of all that we ourselves hold dear, and of the world order and peace, it is unthinkable that we should refuse to meet the challenge.',\n",
       " 'It is to this high purpose that I now call my people at home, and my peoples across the seas, who will make our cause their own.',\n",
       " 'I ask them to stand calm and firm and united in this time of trial.',\n",
       " 'The task will be hard.',\n",
       " 'There may be dark days ahead, and war can no longer be confined to the battlefield, but we can only do the right as we see the right, and reverently commit our cause to God.',\n",
       " \"If one and all we keep resolutely faithful to it, ready for whatever service or sacrifice it may demand, then with God's help, we shall prevail.\"]"
      ]
     },
     "execution_count": 27,
     "metadata": {},
     "output_type": "execute_result"
    }
   ],
   "source": [
    "from nltk.stem import PorterStemmer\n",
    "from nltk.corpus import stopwords\n",
    "from nltk.stem import WordNetLemmatizer\n",
    "import re\n",
    "sentences_lem #Creating a string copy \n",
    "#id(sentences_lem)"
   ]
  },
  {
   "cell_type": "code",
   "execution_count": 28,
   "metadata": {},
   "outputs": [
    {
     "data": {
      "text/plain": [
       "14"
      ]
     },
     "execution_count": 28,
     "metadata": {},
     "output_type": "execute_result"
    }
   ],
   "source": [
    "stemmer = PorterStemmer()\n",
    "len(sentences)"
   ]
  },
  {
   "cell_type": "code",
   "execution_count": 29,
   "metadata": {},
   "outputs": [],
   "source": [
    "for i in range (len(sentences)):\n",
    "    words  = nltk.word_tokenize(sentences[i])  \n",
    "    #print (words)\n",
    "    words = [stemmer.stem(word) for word in words if word not in set(stopwords.words('english'))]\n",
    "    #print ('\\n ',words,'\\n')\n",
    "    sentences[i] = ' '.join(words)"
   ]
  },
  {
   "cell_type": "code",
   "execution_count": 30,
   "metadata": {},
   "outputs": [
    {
     "name": "stdout",
     "output_type": "stream",
     "text": [
      "['In grave hour , perhap fate histori , I send everi household peopl , home oversea , messag , spoken depth feel one I abl cross threshold speak .', 'for second time live us , war .', 'over , tri find peac way differ enemi ; vain .', 'We forc conflict , call , alli , meet challeng principl , prevail , would fatal civil order world .', 'It principl permit state , selfish pursuit power , disregard treati solemn pledg , sanction use forc threat forc sovereignti independ state .', 'such principl , strip disguis , sure mere primit doctrin might right , principl establish world , freedom countri whole british commonwealth nation would danger .', 'but far , peopl world would kept bondag fear , hope settl peac secur , justic liberti , among nation , would end .', 'thi ultim issu confront us .', 'for sake hold dear , world order peac , unthink refus meet challeng .', 'It high purpos I call peopl home , peopl across sea , make caus .', 'I ask stand calm firm unit time trial .', 'the task hard .', 'there may dark day ahead , war longer confin battlefield , right see right , rever commit caus god .', \"If one keep resolut faith , readi whatev servic sacrific may demand , god 's help , shall prevail .\"]\n"
     ]
    }
   ],
   "source": [
    "print (sentences)"
   ]
  },
  {
   "cell_type": "code",
   "execution_count": 31,
   "metadata": {},
   "outputs": [],
   "source": [
    "lemmatizer = WordNetLemmatizer()\n",
    "#len(sentences_lem)\n",
    "#sentences_lem"
   ]
  },
  {
   "cell_type": "code",
   "execution_count": 32,
   "metadata": {},
   "outputs": [],
   "source": [
    "for i in range (len(sentences_lem)):\n",
    "    words  = nltk.word_tokenize(sentences_lem[i])  \n",
    "    words = [lemmatizer.lemmatize(word) for word in words if word not in set(stopwords.words('english'))]\n",
    "    sentences_lem[i] = ' '.join(words)"
   ]
  },
  {
   "cell_type": "code",
   "execution_count": 33,
   "metadata": {},
   "outputs": [
    {
     "data": {
      "text/plain": [
       "['In grave hour , perhaps fateful history , I send every household people , home overseas , message , spoken depth feeling one I able cross threshold speak .',\n",
       " 'For second time life u , war .',\n",
       " 'Over , tried find peaceful way difference enemy ; vain .',\n",
       " 'We forced conflict , called , ally , meet challenge principle , prevail , would fatal civilized order world .',\n",
       " 'It principle permit state , selfish pursuit power , disregard treaty solemn pledge , sanction use force threat force sovereignty independence state .',\n",
       " 'Such principle , stripped disguise , surely mere primitive doctrine might right , principle established world , freedom country whole British Commonwealth nation would danger .',\n",
       " 'But far , people world would kept bondage fear , hope settled peace security , justice liberty , among nation , would ended .',\n",
       " 'This ultimate issue confronts u .',\n",
       " 'For sake hold dear , world order peace , unthinkable refuse meet challenge .',\n",
       " 'It high purpose I call people home , people across sea , make cause .',\n",
       " 'I ask stand calm firm united time trial .',\n",
       " 'The task hard .',\n",
       " 'There may dark day ahead , war longer confined battlefield , right see right , reverently commit cause God .',\n",
       " \"If one keep resolutely faithful , ready whatever service sacrifice may demand , God 's help , shall prevail .\"]"
      ]
     },
     "execution_count": 33,
     "metadata": {},
     "output_type": "execute_result"
    }
   ],
   "source": [
    "sentences_lem"
   ]
  },
  {
   "cell_type": "markdown",
   "metadata": {},
   "source": [
    "## Using Bag of Words"
   ]
  },
  {
   "cell_type": "code",
   "execution_count": 120,
   "metadata": {},
   "outputs": [],
   "source": [
    "import re\n",
    "corpus = []\n",
    "for i in range (len(sentences_lem2)):\n",
    "    words = re.sub(\"[^A-Za-z0-9]\",' ',sentences_lem2[i])\n",
    "    words = words.lower()\n",
    "    words = words.split()\n",
    "    words = [lemmatizer.lemmatize(word) for word in words if word not in set(stopwords.words('english'))]\n",
    "    #print (words)\n",
    "    words = ' '.join(words)\n",
    "    corpus.append(words)"
   ]
  },
  {
   "cell_type": "code",
   "execution_count": 121,
   "metadata": {},
   "outputs": [],
   "source": [
    "    import sklearn\n",
    "    from sklearn.feature_extraction.text import CountVectorizer"
   ]
  },
  {
   "cell_type": "code",
   "execution_count": 122,
   "metadata": {},
   "outputs": [],
   "source": [
    "cv  = CountVectorizer()"
   ]
  },
  {
   "cell_type": "code",
   "execution_count": 123,
   "metadata": {},
   "outputs": [],
   "source": [
    "X = cv.fit_transform(corpus).toarray()"
   ]
  },
  {
   "cell_type": "code",
   "execution_count": 124,
   "metadata": {},
   "outputs": [
    {
     "data": {
      "text/plain": [
       "array([[1, 0, 0, ..., 0, 0, 0],\n",
       "       [0, 0, 0, ..., 0, 0, 0],\n",
       "       [0, 0, 0, ..., 0, 0, 0],\n",
       "       ...,\n",
       "       [0, 0, 0, ..., 0, 0, 0],\n",
       "       [0, 0, 1, ..., 0, 0, 0],\n",
       "       [0, 0, 0, ..., 0, 0, 0]], dtype=int64)"
      ]
     },
     "execution_count": 124,
     "metadata": {},
     "output_type": "execute_result"
    }
   ],
   "source": [
    "X"
   ]
  },
  {
   "cell_type": "markdown",
   "metadata": {},
   "source": [
    "## TF-IDF\n"
   ]
  },
  {
   "cell_type": "code",
   "execution_count": 119,
   "metadata": {},
   "outputs": [],
   "source": [
    "from sklearn.feature_extraction.text import TfidfVectorizer\n",
    "tf = TfidfVectorizer()"
   ]
  },
  {
   "cell_type": "code",
   "execution_count": 39,
   "metadata": {},
   "outputs": [],
   "source": [
    "Y = tf.fit_transform(corpus).toarray()"
   ]
  },
  {
   "cell_type": "code",
   "execution_count": 40,
   "metadata": {},
   "outputs": [
    {
     "data": {
      "text/plain": [
       "array([[0.2288667 , 0.        , 0.        , ..., 0.        , 0.        ,\n",
       "        0.        ],\n",
       "       [0.        , 0.        , 0.        , ..., 0.        , 0.        ,\n",
       "        0.        ],\n",
       "       [0.        , 0.        , 0.        , ..., 0.        , 0.        ,\n",
       "        0.        ],\n",
       "       ...,\n",
       "       [0.        , 0.        , 0.        , ..., 0.        , 0.        ,\n",
       "        0.        ],\n",
       "       [0.        , 0.        , 0.25825999, ..., 0.        , 0.        ,\n",
       "        0.        ],\n",
       "       [0.        , 0.        , 0.        , ..., 0.        , 0.        ,\n",
       "        0.        ]])"
      ]
     },
     "execution_count": 40,
     "metadata": {},
     "output_type": "execute_result"
    }
   ],
   "source": [
    "Y"
   ]
  },
  {
   "cell_type": "code",
   "execution_count": 134,
   "metadata": {},
   "outputs": [
    {
     "data": {
      "text/plain": [
       "[' In this grave hour, perhaps the most fateful in our history, I send to every household of my peoples, both at home and overseas, this message, spoken with the same depth of feeling for each one of you as if I were able to cross your threshold and speak to you myself.',\n",
       " 'For the second time in the lives of most of us, we are at war.',\n",
       " 'Over and over again, we have tried to find a peaceful way out of the differences between ourselves and those who are now our enemies; but it has been in vain.',\n",
       " 'We have been forced into a conflict, for we are called, with our allies, to meet the challenge of a principle which, if it were to prevail, would be fatal to any civilized order in the world.',\n",
       " 'It is a principle which permits a state, in the selfish pursuit of power, to disregard its treaties and its solemn pledges, which sanctions the use of force or threat of force against the sovereignty and independence of other states.',\n",
       " 'Such a principle, stripped of all disguise, is surely the mere primitive doctrine that might is right, and if this principle were established through the world, the freedom of our own country and of the whole British Commonwealth of nations would be in danger.',\n",
       " 'But far more than this, the peoples of the world would be kept in bondage of fear, and all hopes of settled peace and of the security, of justice and liberty, among nations, would be ended.',\n",
       " 'This is the ultimate issue which confronts us.',\n",
       " 'For the sake of all that we ourselves hold dear, and of the world order and peace, it is unthinkable that we should refuse to meet the challenge.',\n",
       " 'It is to this high purpose that I now call my people at home, and my peoples across the seas, who will make our cause their own.',\n",
       " 'I ask them to stand calm and firm and united in this time of trial.',\n",
       " 'The task will be hard.',\n",
       " 'There may be dark days ahead, and war can no longer be confined to the battlefield, but we can only do the right as we see the right, and reverently commit our cause to God.',\n",
       " \"If one and all we keep resolutely faithful to it, ready for whatever service or sacrifice it may demand, then with God's help, we shall prevail.\"]"
      ]
     },
     "execution_count": 134,
     "metadata": {},
     "output_type": "execute_result"
    }
   ],
   "source": [
    "from gensim.models import Word2Vec\n",
    "sentences_lem"
   ]
  },
  {
   "cell_type": "code",
   "execution_count": 150,
   "metadata": {},
   "outputs": [
    {
     "name": "stdout",
     "output_type": "stream",
     "text": [
      "[['grave', 'hour', 'perhaps', 'fateful', 'history', 'send', 'every', 'household', 'people', 'home', 'overseas', 'message', 'spoken', 'depth', 'feeling', 'one', 'able', 'cross', 'threshold', 'speak'], ['second', 'time', 'life', 'u', 'war'], ['tried', 'find', 'peaceful', 'way', 'difference', 'enemy', 'vain'], ['forced', 'conflict', 'called', 'ally', 'meet', 'challenge', 'principle', 'prevail', 'would', 'fatal', 'civilized', 'order', 'world'], ['principle', 'permit', 'state', 'selfish', 'pursuit', 'power', 'disregard', 'treaty', 'solemn', 'pledge', 'sanction', 'use', 'force', 'threat', 'force', 'sovereignty', 'independence', 'state'], ['principle', 'stripped', 'disguise', 'surely', 'mere', 'primitive', 'doctrine', 'might', 'right', 'principle', 'established', 'world', 'freedom', 'country', 'whole', 'british', 'commonwealth', 'nation', 'would', 'danger'], ['far', 'people', 'world', 'would', 'kept', 'bondage', 'fear', 'hope', 'settled', 'peace', 'security', 'justice', 'liberty', 'among', 'nation', 'would', 'ended'], ['ultimate', 'issue', 'confronts', 'u'], ['sake', 'hold', 'dear', 'world', 'order', 'peace', 'unthinkable', 'refuse', 'meet', 'challenge'], ['high', 'purpose', 'call', 'people', 'home', 'people', 'across', 'sea', 'make', 'cause'], ['ask', 'stand', 'calm', 'firm', 'united', 'time', 'trial'], ['task', 'hard'], ['may', 'dark', 'day', 'ahead', 'war', 'longer', 'confined', 'battlefield', 'right', 'see', 'right', 'reverently', 'commit', 'cause', 'god'], ['one', 'keep', 'resolutely', 'faithful', 'ready', 'whatever', 'service', 'sacrifice', 'may', 'demand', 'god', 'help', 'shall', 'prevail']]\n"
     ]
    }
   ],
   "source": [
    "wor = []\n",
    "for i in range (len(sentences_lem2)):\n",
    "    words = re.sub(\"[^A-Za-z0-9]\",' ',sentences_lem2[i])\n",
    "    words = words.lower()\n",
    "    words = words.split()\n",
    "    words = [lemmatizer.lemmatize(word) for word in words if word not in set(stopwords.words('english'))]\n",
    "    sentences_lem2[i] = words     \n",
    "print (sentences_lem2)"
   ]
  },
  {
   "cell_type": "code",
   "execution_count": 151,
   "metadata": {},
   "outputs": [
    {
     "name": "stdout",
     "output_type": "stream",
     "text": [
      "Word2Vec(vocab=132, size=100, alpha=0.025)\n"
     ]
    },
    {
     "name": "stderr",
     "output_type": "stream",
     "text": [
      "F:\\Anaconda3\\lib\\site-packages\\gensim\\models\\base_any2vec.py:743: UserWarning: C extension not loaded, training will be slow. Install a C compiler and reinstall gensim for fast training.\n",
      "  \"C extension not loaded, training will be slow. \"\n"
     ]
    }
   ],
   "source": [
    "model = Word2Vec(sentences_lem2,min_count=1)\n",
    "print (model)"
   ]
  },
  {
   "cell_type": "code",
   "execution_count": 172,
   "metadata": {},
   "outputs": [],
   "source": [
    "words_vec = model.wv.vocab"
   ]
  },
  {
   "cell_type": "code",
   "execution_count": 153,
   "metadata": {},
   "outputs": [],
   "source": [
    "vector = model.wv['dark']  "
   ]
  },
  {
   "cell_type": "code",
   "execution_count": 155,
   "metadata": {},
   "outputs": [],
   "source": [
    "similar = model.wv.most_similar('hard')"
   ]
  },
  {
   "cell_type": "code",
   "execution_count": 173,
   "metadata": {},
   "outputs": [
    {
     "data": {
      "text/plain": [
       "[('calm', 0.3108063340187073),\n",
       " ('use', 0.24877384305000305),\n",
       " ('home', 0.19483034312725067),\n",
       " ('sake', 0.1796029806137085),\n",
       " ('history', 0.17926464974880219),\n",
       " ('across', 0.1753954142332077),\n",
       " ('dark', 0.17472738027572632),\n",
       " ('issue', 0.1670016646385193),\n",
       " ('overseas', 0.13989010453224182),\n",
       " ('fear', 0.1335921734571457)]"
      ]
     },
     "execution_count": 173,
     "metadata": {},
     "output_type": "execute_result"
    }
   ],
   "source": [
    "similar"
   ]
  },
  {
   "cell_type": "code",
   "execution_count": null,
   "metadata": {},
   "outputs": [],
   "source": []
  }
 ],
 "metadata": {
  "kernelspec": {
   "display_name": "Python 3",
   "language": "python",
   "name": "python3"
  },
  "language_info": {
   "codemirror_mode": {
    "name": "ipython",
    "version": 3
   },
   "file_extension": ".py",
   "mimetype": "text/x-python",
   "name": "python",
   "nbconvert_exporter": "python",
   "pygments_lexer": "ipython3",
   "version": "3.6.5"
  }
 },
 "nbformat": 4,
 "nbformat_minor": 2
}
